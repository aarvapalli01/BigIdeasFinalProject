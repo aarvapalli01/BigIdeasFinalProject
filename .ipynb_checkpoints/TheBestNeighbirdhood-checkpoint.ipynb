{
 "cells": [
  {
   "cell_type": "markdown",
   "metadata": {},
   "source": [
    "# The Best Neighbirdhood\n",
    "\n"
   ]
  },
  {
   "cell_type": "markdown",
   "metadata": {},
   "source": [
    "# Submetric 3: Addressing the Avian Housing Crisis"
   ]
  },
  {
   "cell_type": "code",
   "execution_count": 17,
   "metadata": {},
   "outputs": [],
   "source": [
    "import pandas as pd\n",
    "import geopandas as gpda\n",
    "from matplotlib import pyplot as plt\n",
    "import numpy as np"
   ]
  },
  {
   "cell_type": "markdown",
   "metadata": {},
   "source": [
    "Let's load our data."
   ]
  },
  {
   "cell_type": "code",
   "execution_count": 18,
   "metadata": {},
   "outputs": [
    {
     "data": {
      "text/html": [
       "<div>\n",
       "<style scoped>\n",
       "    .dataframe tbody tr th:only-of-type {\n",
       "        vertical-align: middle;\n",
       "    }\n",
       "\n",
       "    .dataframe tbody tr th {\n",
       "        vertical-align: top;\n",
       "    }\n",
       "\n",
       "    .dataframe thead th {\n",
       "        text-align: right;\n",
       "    }\n",
       "</style>\n",
       "<table border=\"1\" class=\"dataframe\">\n",
       "  <thead>\n",
       "    <tr style=\"text-align: right;\">\n",
       "      <th></th>\n",
       "      <th>id</th>\n",
       "      <th>address_number</th>\n",
       "      <th>street</th>\n",
       "      <th>common_name</th>\n",
       "      <th>scientific_name</th>\n",
       "      <th>height</th>\n",
       "      <th>width</th>\n",
       "      <th>growth_space_length</th>\n",
       "      <th>growth_space_width</th>\n",
       "      <th>growth_space_type</th>\n",
       "      <th>...</th>\n",
       "      <th>neighborhood</th>\n",
       "      <th>council_district</th>\n",
       "      <th>ward</th>\n",
       "      <th>tract</th>\n",
       "      <th>public_works_division</th>\n",
       "      <th>pli_division</th>\n",
       "      <th>police_zone</th>\n",
       "      <th>fire_zone</th>\n",
       "      <th>latitude</th>\n",
       "      <th>longitude</th>\n",
       "    </tr>\n",
       "  </thead>\n",
       "  <tbody>\n",
       "    <tr>\n",
       "      <th>0</th>\n",
       "      <td>754166088</td>\n",
       "      <td>7428.0</td>\n",
       "      <td>MONTICELLO ST</td>\n",
       "      <td>Stump</td>\n",
       "      <td>Stump</td>\n",
       "      <td>0.0</td>\n",
       "      <td>0.0</td>\n",
       "      <td>10.0</td>\n",
       "      <td>2.0</td>\n",
       "      <td>Well or Pit</td>\n",
       "      <td>...</td>\n",
       "      <td>Homewood North</td>\n",
       "      <td>9.0</td>\n",
       "      <td>13.0</td>\n",
       "      <td>4.200313e+10</td>\n",
       "      <td>2.0</td>\n",
       "      <td>13.0</td>\n",
       "      <td>5.0</td>\n",
       "      <td>3-17</td>\n",
       "      <td>40.458169</td>\n",
       "      <td>-79.889724</td>\n",
       "    </tr>\n",
       "    <tr>\n",
       "      <th>1</th>\n",
       "      <td>1946899269</td>\n",
       "      <td>220.0</td>\n",
       "      <td>BALVER AVE</td>\n",
       "      <td>Linden: Littleleaf</td>\n",
       "      <td>Tilia cordata</td>\n",
       "      <td>0.0</td>\n",
       "      <td>0.0</td>\n",
       "      <td>99.0</td>\n",
       "      <td>99.0</td>\n",
       "      <td>Open or Unrestricted</td>\n",
       "      <td>...</td>\n",
       "      <td>Oakwood</td>\n",
       "      <td>2.0</td>\n",
       "      <td>28.0</td>\n",
       "      <td>4.200356e+10</td>\n",
       "      <td>5.0</td>\n",
       "      <td>28.0</td>\n",
       "      <td>6.0</td>\n",
       "      <td>1-19</td>\n",
       "      <td>40.429269</td>\n",
       "      <td>-80.067868</td>\n",
       "    </tr>\n",
       "    <tr>\n",
       "      <th>2</th>\n",
       "      <td>1431517397</td>\n",
       "      <td>2822.0</td>\n",
       "      <td>SIDNEY ST</td>\n",
       "      <td>Maple: Red</td>\n",
       "      <td>Acer rubrum</td>\n",
       "      <td>22.0</td>\n",
       "      <td>6.0</td>\n",
       "      <td>6.0</td>\n",
       "      <td>3.0</td>\n",
       "      <td>Well or Pit</td>\n",
       "      <td>...</td>\n",
       "      <td>South Side Flats</td>\n",
       "      <td>3.0</td>\n",
       "      <td>16.0</td>\n",
       "      <td>4.200316e+10</td>\n",
       "      <td>3.0</td>\n",
       "      <td>16.0</td>\n",
       "      <td>3.0</td>\n",
       "      <td>4-24</td>\n",
       "      <td>40.426797</td>\n",
       "      <td>-79.965035</td>\n",
       "    </tr>\n",
       "    <tr>\n",
       "      <th>3</th>\n",
       "      <td>994063598</td>\n",
       "      <td>608.0</td>\n",
       "      <td>SUISMON ST</td>\n",
       "      <td>Maple: Freeman</td>\n",
       "      <td>Acer x freemanii</td>\n",
       "      <td>25.0</td>\n",
       "      <td>10.0</td>\n",
       "      <td>3.0</td>\n",
       "      <td>3.0</td>\n",
       "      <td>Well or Pit</td>\n",
       "      <td>...</td>\n",
       "      <td>East Allegheny</td>\n",
       "      <td>1.0</td>\n",
       "      <td>23.0</td>\n",
       "      <td>4.200356e+10</td>\n",
       "      <td>1.0</td>\n",
       "      <td>23.0</td>\n",
       "      <td>1.0</td>\n",
       "      <td>1-6</td>\n",
       "      <td>40.455503</td>\n",
       "      <td>-79.999276</td>\n",
       "    </tr>\n",
       "    <tr>\n",
       "      <th>4</th>\n",
       "      <td>1591838573</td>\n",
       "      <td>1135.0</td>\n",
       "      <td>N NEGLEY AVE</td>\n",
       "      <td>Maple: Norway</td>\n",
       "      <td>Acer platanoides</td>\n",
       "      <td>52.0</td>\n",
       "      <td>13.0</td>\n",
       "      <td>99.0</td>\n",
       "      <td>99.0</td>\n",
       "      <td>Open or Unrestricted</td>\n",
       "      <td>...</td>\n",
       "      <td>Highland Park</td>\n",
       "      <td>7.0</td>\n",
       "      <td>11.0</td>\n",
       "      <td>4.200311e+10</td>\n",
       "      <td>2.0</td>\n",
       "      <td>11.0</td>\n",
       "      <td>5.0</td>\n",
       "      <td>3-9</td>\n",
       "      <td>40.476667</td>\n",
       "      <td>-79.924106</td>\n",
       "    </tr>\n",
       "  </tbody>\n",
       "</table>\n",
       "<p>5 rows × 58 columns</p>\n",
       "</div>"
      ],
      "text/plain": [
       "           id  address_number         street         common_name  \\\n",
       "0   754166088          7428.0  MONTICELLO ST               Stump   \n",
       "1  1946899269           220.0     BALVER AVE  Linden: Littleleaf   \n",
       "2  1431517397          2822.0      SIDNEY ST          Maple: Red   \n",
       "3   994063598           608.0     SUISMON ST      Maple: Freeman   \n",
       "4  1591838573          1135.0   N NEGLEY AVE       Maple: Norway   \n",
       "\n",
       "    scientific_name  height  width  growth_space_length  growth_space_width  \\\n",
       "0             Stump     0.0    0.0                 10.0                 2.0   \n",
       "1     Tilia cordata     0.0    0.0                 99.0                99.0   \n",
       "2       Acer rubrum    22.0    6.0                  6.0                 3.0   \n",
       "3  Acer x freemanii    25.0   10.0                  3.0                 3.0   \n",
       "4  Acer platanoides    52.0   13.0                 99.0                99.0   \n",
       "\n",
       "      growth_space_type  ...      neighborhood  council_district  ward  \\\n",
       "0           Well or Pit  ...    Homewood North               9.0  13.0   \n",
       "1  Open or Unrestricted  ...           Oakwood               2.0  28.0   \n",
       "2           Well or Pit  ...  South Side Flats               3.0  16.0   \n",
       "3           Well or Pit  ...    East Allegheny               1.0  23.0   \n",
       "4  Open or Unrestricted  ...     Highland Park               7.0  11.0   \n",
       "\n",
       "          tract public_works_division  pli_division  police_zone  fire_zone  \\\n",
       "0  4.200313e+10                   2.0          13.0          5.0       3-17   \n",
       "1  4.200356e+10                   5.0          28.0          6.0       1-19   \n",
       "2  4.200316e+10                   3.0          16.0          3.0       4-24   \n",
       "3  4.200356e+10                   1.0          23.0          1.0        1-6   \n",
       "4  4.200311e+10                   2.0          11.0          5.0        3-9   \n",
       "\n",
       "    latitude  longitude  \n",
       "0  40.458169 -79.889724  \n",
       "1  40.429269 -80.067868  \n",
       "2  40.426797 -79.965035  \n",
       "3  40.455503 -79.999276  \n",
       "4  40.476667 -79.924106  \n",
       "\n",
       "[5 rows x 58 columns]"
      ]
     },
     "execution_count": 18,
     "metadata": {},
     "output_type": "execute_result"
    }
   ],
   "source": [
    "trees = pd.read_csv(\"trees.csv\")\n",
    "trees.head()"
   ]
  },
  {
   "cell_type": "markdown",
   "metadata": {},
   "source": [
    "Now we want to isolate only the relevant columns of our data frame, which include the tree IDs, the neighborhood each tree is situated in, and the trees' growth spaces."
   ]
  },
  {
   "cell_type": "code",
   "execution_count": 19,
   "metadata": {},
   "outputs": [
    {
     "data": {
      "text/html": [
       "<div>\n",
       "<style scoped>\n",
       "    .dataframe tbody tr th:only-of-type {\n",
       "        vertical-align: middle;\n",
       "    }\n",
       "\n",
       "    .dataframe tbody tr th {\n",
       "        vertical-align: top;\n",
       "    }\n",
       "\n",
       "    .dataframe thead th {\n",
       "        text-align: right;\n",
       "    }\n",
       "</style>\n",
       "<table border=\"1\" class=\"dataframe\">\n",
       "  <thead>\n",
       "    <tr style=\"text-align: right;\">\n",
       "      <th></th>\n",
       "      <th>id</th>\n",
       "      <th>neighborhood</th>\n",
       "      <th>growth space</th>\n",
       "    </tr>\n",
       "  </thead>\n",
       "  <tbody>\n",
       "    <tr>\n",
       "      <th>0</th>\n",
       "      <td>754166088</td>\n",
       "      <td>Homewood North</td>\n",
       "      <td>20.0</td>\n",
       "    </tr>\n",
       "    <tr>\n",
       "      <th>1</th>\n",
       "      <td>1946899269</td>\n",
       "      <td>Oakwood</td>\n",
       "      <td>9801.0</td>\n",
       "    </tr>\n",
       "    <tr>\n",
       "      <th>2</th>\n",
       "      <td>1431517397</td>\n",
       "      <td>South Side Flats</td>\n",
       "      <td>18.0</td>\n",
       "    </tr>\n",
       "    <tr>\n",
       "      <th>3</th>\n",
       "      <td>994063598</td>\n",
       "      <td>East Allegheny</td>\n",
       "      <td>9.0</td>\n",
       "    </tr>\n",
       "    <tr>\n",
       "      <th>4</th>\n",
       "      <td>1591838573</td>\n",
       "      <td>Highland Park</td>\n",
       "      <td>9801.0</td>\n",
       "    </tr>\n",
       "  </tbody>\n",
       "</table>\n",
       "</div>"
      ],
      "text/plain": [
       "           id      neighborhood  growth space\n",
       "0   754166088    Homewood North          20.0\n",
       "1  1946899269           Oakwood        9801.0\n",
       "2  1431517397  South Side Flats          18.0\n",
       "3   994063598    East Allegheny           9.0\n",
       "4  1591838573     Highland Park        9801.0"
      ]
     },
     "execution_count": 19,
     "metadata": {},
     "output_type": "execute_result"
    }
   ],
   "source": [
    "neighborhoods = pd.DataFrame(columns = [\"id\", \"neighborhood\", \"growth space\"])\n",
    "neighborhoods[\"id\"] = trees[\"id\"]\n",
    "neighborhoods[\"neighborhood\"] = trees[\"neighborhood\"]\n",
    "neighborhoods[\"growth space\"] = trees[\"growth_space_length\"] * trees[\"growth_space_width\"]\n",
    "\n",
    "neighborhoods.head()"
   ]
  },
  {
   "cell_type": "markdown",
   "metadata": {},
   "source": [
    "We want to get rid of any rows with NaN as a value, so they don't mess with our data manipulations"
   ]
  },
  {
   "cell_type": "code",
   "execution_count": 20,
   "metadata": {},
   "outputs": [],
   "source": [
    "neighborhoods = neighborhoods.dropna()"
   ]
  },
  {
   "cell_type": "markdown",
   "metadata": {},
   "source": [
    "Let's see how many neighborhoods are included in our dataset, and which neighborhoods they are."
   ]
  },
  {
   "cell_type": "code",
   "execution_count": 21,
   "metadata": {},
   "outputs": [
    {
     "name": "stdout",
     "output_type": "stream",
     "text": [
      "87\n",
      "['Homewood North' 'Oakwood' 'South Side Flats' 'East Allegheny'\n",
      " 'Highland Park' 'Sheraden' 'Chartiers City' 'Elliott' 'Stanton Heights'\n",
      " 'Morningside' 'Bloomfield' 'Friendship' 'Garfield' 'Polish Hill'\n",
      " 'Lower Lawrenceville' 'Central Northside' 'East Liberty'\n",
      " 'Central Lawrenceville' 'Shadyside' 'Allegheny Center' 'Homewood South'\n",
      " 'Point Breeze North' 'East Hills' 'Homewood West' 'Greenfield'\n",
      " 'Hazelwood' 'Squirrel Hill South' 'Marshall-Shadeland' 'Brighton Heights'\n",
      " 'North Shore' 'Overbrook' 'Knoxville' 'Brookline' 'South Side Slopes'\n",
      " 'Arlington' 'Arlington Heights' 'Carrick' 'Bedford Dwellings'\n",
      " 'Central Business District' 'Bluff' 'West Oakland' 'South Oakland'\n",
      " 'Squirrel Hill North' 'Point Breeze' 'Lincoln-Lemington-Belmar' 'Bon Air'\n",
      " 'Mount Washington' 'California-Kirkbride' 'New Homestead'\n",
      " 'Central Oakland' 'Crafton Heights' 'Beechview' 'Manchester' 'Allentown'\n",
      " 'Beltzhoover' 'Allegheny West' 'Chateau' 'Duquesne Heights' 'Perry North'\n",
      " 'Perry South' 'Middle Hill' 'Troy Hill' 'Terrace Village' 'Upper Hill'\n",
      " 'North Oakland' 'Fineview' 'Strip District' 'Windgap' 'Crawford-Roberts'\n",
      " 'Larimer' 'Lincoln Place' 'Regent Square' 'Banksville' 'Swisshelm Park'\n",
      " 'Spring Garden' 'Spring Hill-City View' 'Westwood' 'Fairywood'\n",
      " 'Summer Hill' 'West End' 'Upper Lawrenceville' 'Ridgemont' 'Esplen'\n",
      " 'East Carnegie' 'South Shore' 'St. Clair' 'Mt. Oliver']\n"
     ]
    }
   ],
   "source": [
    "print(len(neighborhoods['neighborhood'].unique()))\n",
    "print(neighborhoods['neighborhood'].unique())"
   ]
  },
  {
   "cell_type": "markdown",
   "metadata": {},
   "source": [
    "Now I want to see the average growth space of trees in each neighborhood to see how spacious our trees are for our birds."
   ]
  },
  {
   "cell_type": "code",
   "execution_count": 22,
   "metadata": {},
   "outputs": [
    {
     "data": {
      "text/html": [
       "<div>\n",
       "<style scoped>\n",
       "    .dataframe tbody tr th:only-of-type {\n",
       "        vertical-align: middle;\n",
       "    }\n",
       "\n",
       "    .dataframe tbody tr th {\n",
       "        vertical-align: top;\n",
       "    }\n",
       "\n",
       "    .dataframe thead th {\n",
       "        text-align: right;\n",
       "    }\n",
       "</style>\n",
       "<table border=\"1\" class=\"dataframe\">\n",
       "  <thead>\n",
       "    <tr style=\"text-align: right;\">\n",
       "      <th></th>\n",
       "      <th>neighborhood</th>\n",
       "      <th>growth space</th>\n",
       "    </tr>\n",
       "  </thead>\n",
       "  <tbody>\n",
       "    <tr>\n",
       "      <th>0</th>\n",
       "      <td>Allegheny Center</td>\n",
       "      <td>27.333333</td>\n",
       "    </tr>\n",
       "    <tr>\n",
       "      <th>1</th>\n",
       "      <td>Allegheny West</td>\n",
       "      <td>91.068966</td>\n",
       "    </tr>\n",
       "    <tr>\n",
       "      <th>2</th>\n",
       "      <td>Allentown</td>\n",
       "      <td>28.641026</td>\n",
       "    </tr>\n",
       "    <tr>\n",
       "      <th>3</th>\n",
       "      <td>Arlington</td>\n",
       "      <td>5453.416667</td>\n",
       "    </tr>\n",
       "    <tr>\n",
       "      <th>4</th>\n",
       "      <td>Arlington Heights</td>\n",
       "      <td>9801.000000</td>\n",
       "    </tr>\n",
       "    <tr>\n",
       "      <th>...</th>\n",
       "      <td>...</td>\n",
       "      <td>...</td>\n",
       "    </tr>\n",
       "    <tr>\n",
       "      <th>82</th>\n",
       "      <td>Upper Lawrenceville</td>\n",
       "      <td>2193.698413</td>\n",
       "    </tr>\n",
       "    <tr>\n",
       "      <th>83</th>\n",
       "      <td>West End</td>\n",
       "      <td>494.536585</td>\n",
       "    </tr>\n",
       "    <tr>\n",
       "      <th>84</th>\n",
       "      <td>West Oakland</td>\n",
       "      <td>2963.222222</td>\n",
       "    </tr>\n",
       "    <tr>\n",
       "      <th>85</th>\n",
       "      <td>Westwood</td>\n",
       "      <td>8834.157143</td>\n",
       "    </tr>\n",
       "    <tr>\n",
       "      <th>86</th>\n",
       "      <td>Windgap</td>\n",
       "      <td>5516.500000</td>\n",
       "    </tr>\n",
       "  </tbody>\n",
       "</table>\n",
       "<p>87 rows × 2 columns</p>\n",
       "</div>"
      ],
      "text/plain": [
       "           neighborhood  growth space\n",
       "0      Allegheny Center     27.333333\n",
       "1        Allegheny West     91.068966\n",
       "2             Allentown     28.641026\n",
       "3             Arlington   5453.416667\n",
       "4     Arlington Heights   9801.000000\n",
       "..                  ...           ...\n",
       "82  Upper Lawrenceville   2193.698413\n",
       "83             West End    494.536585\n",
       "84         West Oakland   2963.222222\n",
       "85             Westwood   8834.157143\n",
       "86              Windgap   5516.500000\n",
       "\n",
       "[87 rows x 2 columns]"
      ]
     },
     "execution_count": 22,
     "metadata": {},
     "output_type": "execute_result"
    }
   ],
   "source": [
    "result = neighborhoods.groupby('neighborhood',as_index=False)['growth space'].mean()\n",
    "result"
   ]
  },
  {
   "cell_type": "markdown",
   "metadata": {},
   "source": [
    "Here I convert our dataframe to a dictionary for future purposes."
   ]
  },
  {
   "cell_type": "code",
   "execution_count": 23,
   "metadata": {},
   "outputs": [],
   "source": [
    "result_dict = dict(result.values)"
   ]
  },
  {
   "cell_type": "code",
   "execution_count": 24,
   "metadata": {},
   "outputs": [
    {
     "data": {
      "text/plain": [
       "{'Allegheny Center': 27.333333333333332,\n",
       " 'Allegheny West': 91.06896551724138,\n",
       " 'Allentown': 28.641025641025642,\n",
       " 'Arlington': 5453.416666666667,\n",
       " 'Arlington Heights': 9801.0,\n",
       " 'Banksville': 8849.322580645161,\n",
       " 'Bedford Dwellings': 3746.851063829787,\n",
       " 'Beechview': 5929.204968944099,\n",
       " 'Beltzhoover': 1235.142857142857,\n",
       " 'Bloomfield': 479.1154684095861,\n",
       " 'Bluff': 94.47272727272727,\n",
       " 'Bon Air': 9801.0,\n",
       " 'Brighton Heights': 3441.8174904942966,\n",
       " 'Brookline': 5428.33628318584,\n",
       " 'California-Kirkbride': 1920.1764705882354,\n",
       " 'Carrick': 5681.696774193549,\n",
       " 'Central Business District': 975.4,\n",
       " 'Central Lawrenceville': 55.04907975460123,\n",
       " 'Central Northside': 794.0880281690141,\n",
       " 'Central Oakland': 1854.0892857142858,\n",
       " 'Chartiers City': 9801.0,\n",
       " 'Chateau': 992.5370370370371,\n",
       " 'Crafton Heights': 5717.59405940594,\n",
       " 'Crawford-Roberts': 318.9526627218935,\n",
       " 'Duquesne Heights': 452.0,\n",
       " 'East Allegheny': 500.38235294117646,\n",
       " 'East Carnegie': 9801.0,\n",
       " 'East Hills': 8316.066666666668,\n",
       " 'East Liberty': 2167.226012793177,\n",
       " 'Elliott': 3559.8333333333335,\n",
       " 'Esplen': 9801.0,\n",
       " 'Fairywood': 8299.5,\n",
       " 'Fineview': 6951.35,\n",
       " 'Friendship': 139.4450867052023,\n",
       " 'Garfield': 1455.9407665505225,\n",
       " 'Greenfield': 4065.253807106599,\n",
       " 'Hazelwood': 4491.034090909091,\n",
       " 'Highland Park': 2019.7190332326284,\n",
       " 'Homewood North': 3052.452229299363,\n",
       " 'Homewood South': 2493.3456790123455,\n",
       " 'Homewood West': 2985.2580645161293,\n",
       " 'Knoxville': 8642.142857142857,\n",
       " 'Larimer': 2640.9518072289156,\n",
       " 'Lincoln Place': 8702.652173913044,\n",
       " 'Lincoln-Lemington-Belmar': 6517.707142857143,\n",
       " 'Lower Lawrenceville': 327.03553299492387,\n",
       " 'Manchester': 94.67647058823529,\n",
       " 'Marshall-Shadeland': 3964.424836601307,\n",
       " 'Middle Hill': 1406.712,\n",
       " 'Morningside': 2521.9625,\n",
       " 'Mount Washington': 636.5739130434782,\n",
       " 'Mt. Oliver': 2178.0,\n",
       " 'New Homestead': 9801.0,\n",
       " 'North Oakland': 2068.2,\n",
       " 'North Shore': 404.94736842105266,\n",
       " 'Oakwood': 8274.315789473685,\n",
       " 'Overbrook': 8934.679487179486,\n",
       " 'Perry North': 2608.313043478261,\n",
       " 'Perry South': 2763.635294117647,\n",
       " 'Point Breeze': 2975.21875,\n",
       " 'Point Breeze North': 1576.4745762711864,\n",
       " 'Polish Hill': 2008.0610687022902,\n",
       " 'Regent Square': 1581.7368421052631,\n",
       " 'Ridgemont': 5643.0,\n",
       " 'Shadyside': 1132.3149038461538,\n",
       " 'Sheraden': 1843.612676056338,\n",
       " 'South Oakland': 1739.0416666666667,\n",
       " 'South Shore': 4.0,\n",
       " 'South Side Flats': 1046.061784897025,\n",
       " 'South Side Slopes': 3640.939393939394,\n",
       " 'Spring Garden': 10.0,\n",
       " 'Spring Hill-City View': 3607.5151515151515,\n",
       " 'Squirrel Hill North': 3443.6402116402114,\n",
       " 'Squirrel Hill South': 2606.9671457905542,\n",
       " 'St. Clair': 9801.0,\n",
       " 'Stanton Heights': 7890.005076142132,\n",
       " 'Strip District': 1284.5702127659574,\n",
       " 'Summer Hill': 8897.4,\n",
       " 'Swisshelm Park': 7864.304347826087,\n",
       " 'Terrace Village': 2182.9,\n",
       " 'Troy Hill': 201.60344827586206,\n",
       " 'Upper Hill': 1549.0862068965516,\n",
       " 'Upper Lawrenceville': 2193.6984126984125,\n",
       " 'West End': 494.5365853658537,\n",
       " 'West Oakland': 2963.222222222222,\n",
       " 'Westwood': 8834.157142857142,\n",
       " 'Windgap': 5516.5}"
      ]
     },
     "execution_count": 24,
     "metadata": {},
     "output_type": "execute_result"
    }
   ],
   "source": [
    "result_dict"
   ]
  },
  {
   "cell_type": "markdown",
   "metadata": {},
   "source": [
    "Let's sort this dictionary by growth space so we can see which neighborhood has the most spacious trees."
   ]
  },
  {
   "cell_type": "code",
   "execution_count": 25,
   "metadata": {},
   "outputs": [
    {
     "data": {
      "text/plain": [
       "{'Arlington Heights': 9801.0,\n",
       " 'Bon Air': 9801.0,\n",
       " 'Chartiers City': 9801.0,\n",
       " 'East Carnegie': 9801.0,\n",
       " 'Esplen': 9801.0,\n",
       " 'New Homestead': 9801.0,\n",
       " 'St. Clair': 9801.0,\n",
       " 'Overbrook': 8934.679487179486,\n",
       " 'Summer Hill': 8897.4,\n",
       " 'Banksville': 8849.322580645161,\n",
       " 'Westwood': 8834.157142857142,\n",
       " 'Lincoln Place': 8702.652173913044,\n",
       " 'Knoxville': 8642.142857142857,\n",
       " 'East Hills': 8316.066666666668,\n",
       " 'Fairywood': 8299.5,\n",
       " 'Oakwood': 8274.315789473685,\n",
       " 'Stanton Heights': 7890.005076142132,\n",
       " 'Swisshelm Park': 7864.304347826087,\n",
       " 'Fineview': 6951.35,\n",
       " 'Lincoln-Lemington-Belmar': 6517.707142857143}"
      ]
     },
     "execution_count": 25,
     "metadata": {},
     "output_type": "execute_result"
    }
   ],
   "source": [
    "sorted_results = dict(sorted(result_dict.items(), key=lambda x:x[1], reverse=True)[0:20])\n",
    "sorted_results"
   ]
  },
  {
   "cell_type": "code",
   "execution_count": 26,
   "metadata": {},
   "outputs": [
    {
     "data": {
      "image/png": "[encoded data removed]",
      "text/plain": [
       "<Figure size 432x288 with 1 Axes>"
      ]
     },
     "metadata": {
      "needs_background": "light"
     },
     "output_type": "display_data"
    }
   ],
   "source": [
    "names = list(sorted_results.keys())\n",
    "values = list(sorted_results.values())\n",
    "\n",
    "plt.bar(range(20), values, tick_label=names)\n",
    "plt.xticks(range(20), names, rotation='vertical')\n",
    "plt.show()"
   ]
  },
  {
   "cell_type": "markdown",
   "metadata": {},
   "source": [
    "But I also care about the number of trees per neighborhood. Some birds are introverts, and like having their own trees rather than big trees that they have to share with others. So let's collect our counts."
   ]
  },
  {
   "cell_type": "code",
   "execution_count": 27,
   "metadata": {},
   "outputs": [],
   "source": [
    "items = dict()\n",
    "for index, row in neighborhoods.iterrows():\n",
    "    if row['neighborhood'] not in items:\n",
    "        items[row['neighborhood']] = 1\n",
    "    else:\n",
    "        items[row['neighborhood']] += 1"
   ]
  },
  {
   "cell_type": "markdown",
   "metadata": {},
   "source": [
    "Helloooo alphabetical order."
   ]
  },
  {
   "cell_type": "code",
   "execution_count": 28,
   "metadata": {},
   "outputs": [
    {
     "data": {
      "text/plain": [
       "[('Allegheny Center', 6),\n",
       " ('Allegheny West', 58),\n",
       " ('Allentown', 39),\n",
       " ('Arlington', 36),\n",
       " ('Arlington Heights', 1),\n",
       " ('Banksville', 93),\n",
       " ('Bedford Dwellings', 47),\n",
       " ('Beechview', 161),\n",
       " ('Beltzhoover', 42),\n",
       " ('Bloomfield', 459),\n",
       " ('Bluff', 55),\n",
       " ('Bon Air', 25),\n",
       " ('Brighton Heights', 263),\n",
       " ('Brookline', 226),\n",
       " ('California-Kirkbride', 34),\n",
       " ('Carrick', 155),\n",
       " ('Central Business District', 380),\n",
       " ('Central Lawrenceville', 163),\n",
       " ('Central Northside', 284),\n",
       " ('Central Oakland', 56),\n",
       " ('Chartiers City', 8),\n",
       " ('Chateau', 54),\n",
       " ('Crafton Heights', 101),\n",
       " ('Crawford-Roberts', 169),\n",
       " ('Duquesne Heights', 24),\n",
       " ('East Allegheny', 102),\n",
       " ('East Carnegie', 1),\n",
       " ('East Hills', 135),\n",
       " ('East Liberty', 469),\n",
       " ('Elliott', 48),\n",
       " ('Esplen', 1),\n",
       " ('Fairywood', 6),\n",
       " ('Fineview', 20),\n",
       " ('Friendship', 173),\n",
       " ('Garfield', 287),\n",
       " ('Greenfield', 197),\n",
       " ('Hazelwood', 176),\n",
       " ('Highland Park', 331),\n",
       " ('Homewood North', 157),\n",
       " ('Homewood South', 162),\n",
       " ('Homewood West', 31),\n",
       " ('Knoxville', 91),\n",
       " ('Larimer', 83),\n",
       " ('Lincoln Place', 69),\n",
       " ('Lincoln-Lemington-Belmar', 140),\n",
       " ('Lower Lawrenceville', 197),\n",
       " ('Manchester', 204),\n",
       " ('Marshall-Shadeland', 153),\n",
       " ('Middle Hill', 125),\n",
       " ('Morningside', 80),\n",
       " ('Mount Washington', 230),\n",
       " ('Mt. Oliver', 7),\n",
       " ('New Homestead', 46),\n",
       " ('North Oakland', 140),\n",
       " ('North Shore', 114),\n",
       " ('Oakwood', 19),\n",
       " ('Overbrook', 78),\n",
       " ('Perry North', 115),\n",
       " ('Perry South', 85),\n",
       " ('Point Breeze', 256),\n",
       " ('Point Breeze North', 118),\n",
       " ('Polish Hill', 131),\n",
       " ('Regent Square', 57),\n",
       " ('Ridgemont', 7),\n",
       " ('Shadyside', 416),\n",
       " ('Sheraden', 142),\n",
       " ('South Oakland', 72),\n",
       " ('South Shore', 1),\n",
       " ('South Side Flats', 437),\n",
       " ('South Side Slopes', 66),\n",
       " ('Spring Garden', 15),\n",
       " ('Spring Hill-City View', 33),\n",
       " ('Squirrel Hill North', 378),\n",
       " ('Squirrel Hill South', 487),\n",
       " ('St. Clair', 1),\n",
       " ('Stanton Heights', 197),\n",
       " ('Strip District', 235),\n",
       " ('Summer Hill', 20),\n",
       " ('Swisshelm Park', 69),\n",
       " ('Terrace Village', 70),\n",
       " ('Troy Hill', 58),\n",
       " ('Upper Hill', 58),\n",
       " ('Upper Lawrenceville', 63),\n",
       " ('West End', 41),\n",
       " ('West Oakland', 18),\n",
       " ('Westwood', 70),\n",
       " ('Windgap', 18)]"
      ]
     },
     "execution_count": 28,
     "metadata": {},
     "output_type": "execute_result"
    }
   ],
   "source": [
    "sorted(items.items())"
   ]
  },
  {
   "cell_type": "code",
   "execution_count": 29,
   "metadata": {},
   "outputs": [
    {
     "data": {
      "text/plain": [
       "{'Squirrel Hill South': 487,\n",
       " 'East Liberty': 469,\n",
       " 'Bloomfield': 459,\n",
       " 'South Side Flats': 437,\n",
       " 'Shadyside': 416,\n",
       " 'Central Business District': 380,\n",
       " 'Squirrel Hill North': 378,\n",
       " 'Highland Park': 331,\n",
       " 'Garfield': 287,\n",
       " 'Central Northside': 284,\n",
       " 'Brighton Heights': 263,\n",
       " 'Point Breeze': 256,\n",
       " 'Strip District': 235,\n",
       " 'Mount Washington': 230,\n",
       " 'Brookline': 226,\n",
       " 'Manchester': 204,\n",
       " 'Stanton Heights': 197,\n",
       " 'Lower Lawrenceville': 197,\n",
       " 'Greenfield': 197,\n",
       " 'Hazelwood': 176}"
      ]
     },
     "execution_count": 29,
     "metadata": {},
     "output_type": "execute_result"
    }
   ],
   "source": [
    "sorted_counts = dict(sorted(items.items(), key=lambda x:x[1], reverse=True)[0:20])\n",
    "sorted_counts"
   ]
  },
  {
   "cell_type": "code",
   "execution_count": 30,
   "metadata": {},
   "outputs": [
    {
     "data": {
      "image/png": "[encoded data removed]",
      "text/plain": [
       "<Figure size 432x288 with 1 Axes>"
      ]
     },
     "metadata": {
      "needs_background": "light"
     },
     "output_type": "display_data"
    }
   ],
   "source": [
    "names2 = list(sorted_counts.keys())\n",
    "values2 = list(sorted_counts.values())\n",
    "\n",
    "plt.bar(range(20), values2, tick_label=names2)\n",
    "plt.xticks(range(20), names2, rotation='vertical')\n",
    "plt.show()"
   ]
  },
  {
   "cell_type": "markdown",
   "metadata": {},
   "source": [
    "To get our final ranking, I want to get the total growth space for a neighborhood (growth space * number of trees), add some additional weight for number of trees per neighborhood for the introvert birds. "
   ]
  },
  {
   "cell_type": "code",
   "execution_count": 34,
   "metadata": {},
   "outputs": [],
   "source": [
    "weighted_dict = dict()\n",
    "for key,value in sorted(items.items()):\n",
    "    weighted_dict[key] = (value * result_dict[key] * 0.3) + (value * 0.7)"
   ]
  },
  {
   "cell_type": "code",
   "execution_count": 35,
   "metadata": {},
   "outputs": [],
   "source": [
    "final_list = sorted(weighted_dict.items(), key=lambda x:x[1], reverse=True)"
   ]
  },
  {
   "cell_type": "code",
   "execution_count": 36,
   "metadata": {},
   "outputs": [
    {
     "data": {
      "text/plain": [
       "[('Stanton Heights', 466437.2),\n",
       " ('Squirrel Hill North', 390773.39999999997),\n",
       " ('Squirrel Hill South', 381218.8),\n",
       " ('Brookline', 368199.4),\n",
       " ('East Hills', 336895.2),\n",
       " ('East Liberty', 305256.99999999994),\n",
       " ('Beechview', 286493.3),\n",
       " ('Lincoln-Lemington-Belmar', 273841.7),\n",
       " ('Brighton Heights', 271743.49999999994),\n",
       " ('Carrick', 264307.39999999997)]"
      ]
     },
     "execution_count": 36,
     "metadata": {},
     "output_type": "execute_result"
    }
   ],
   "source": [
    "final_list[0:10]"
   ]
  },
  {
   "cell_type": "code",
   "execution_count": null,
   "metadata": {},
   "outputs": [],
   "source": []
  }
 ],
 "metadata": {
  "kernelspec": {
   "display_name": "Python 3",
   "language": "python",
   "name": "python3"
  },
  "language_info": {
   "codemirror_mode": {
    "name": "ipython",
    "version": 3
   },
   "file_extension": ".py",
   "mimetype": "text/x-python",
   "name": "python",
   "nbconvert_exporter": "python",
   "pygments_lexer": "ipython3",
   "version": "3.8.3"
  }
 },
 "nbformat": 4,
 "nbformat_minor": 4
}
